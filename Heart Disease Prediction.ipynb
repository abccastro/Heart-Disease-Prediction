{
 "cells": [
  {
   "attachments": {},
   "cell_type": "markdown",
   "metadata": {},
   "source": [
    "## **Heart Disease Prediction**"
   ]
  },
  {
   "attachments": {},
   "cell_type": "markdown",
   "metadata": {},
   "source": [
    "### __Importing Dataset__\n",
    "\n",
    "The dataset was obtained from https://www.kaggle.com/datasets/kamilpytlak/personal-key-indicators-of-heart-disease. It is about the Key Heart Disease Indicators, sourced from the 2022 CDC survey involving over 400,000 adults, which primarily examines health-related factors that cause heart disease. Globally, heart disease ranks among the top causes of death across different racial groups, with major risk factors such as high blood pressure, high cholesterol levels, and smoking. Other significant contributors to heart disease include diabetes, obesity, lack of physical activity, and excessive alcohol consumption are taken into consideration. "
   ]
  },
  {
   "cell_type": "code",
   "execution_count": 56,
   "metadata": {},
   "outputs": [
    {
     "name": "stdout",
     "output_type": "stream",
     "text": [
      "+-------+------+-------------+------------------+----------------+--------------------+------------------+----------+------------+--------------+---------+---------+---------+-------------+-------+---------------------+----------------+------------+-----------+-------------------+-----------------------+-----------------------+-----------------+-------------------------+-----------------+--------------------+--------------------+---------+---------------------+---------------+--------------+-----------------+-----+---------------+----------+------------+-------------+--------------------+----------------+--------+\n",
      "|  State|   Sex|GeneralHealth|PhysicalHealthDays|MentalHealthDays|     LastCheckupTime|PhysicalActivities|SleepHours|RemovedTeeth|HadHeartAttack|HadAngina|HadStroke|HadAsthma|HadSkinCancer|HadCOPD|HadDepressiveDisorder|HadKidneyDisease|HadArthritis|HadDiabetes|DeafOrHardOfHearing|BlindOrVisionDifficulty|DifficultyConcentrating|DifficultyWalking|DifficultyDressingBathing|DifficultyErrands|        SmokerStatus|     ECigaretteUsage|ChestScan|RaceEthnicityCategory|    AgeCategory|HeightInMeters|WeightInKilograms|  BMI|AlcoholDrinkers|HIVTesting|FluVaxLast12|PneumoVaxEver|   TetanusLast10Tdap|HighRiskLastYear|CovidPos|\n",
      "+-------+------+-------------+------------------+----------------+--------------------+------------------+----------+------------+--------------+---------+---------+---------+-------------+-------+---------------------+----------------+------------+-----------+-------------------+-----------------------+-----------------------+-----------------+-------------------------+-----------------+--------------------+--------------------+---------+---------------------+---------------+--------------+-----------------+-----+---------------+----------+------------+-------------+--------------------+----------------+--------+\n",
      "|Alabama|Female|    Very good|                 0|               0|Within past year ...|                No|         8|        null|            No|       No|       No|       No|           No|     No|                   No|              No|          No|        Yes|                 No|                     No|                     No|               No|                       No|               No|        Never smoked|Not at all (right...|       No| White only, Non-H...|Age 80 or older|           1.6|             null| null|             No|        No|         Yes|           No|Yes, received tet...|              No|      No|\n",
      "|Alabama|Female|    Excellent|                 0|               0|                null|                No|         6|        null|            No|       No|       No|       No|          Yes|     No|                   No|              No|          No|         No|                 No|                     No|                     No|               No|                       No|               No|        Never smoked|Never used e-ciga...|       No| White only, Non-H...|Age 80 or older|           1.6|            68.04|26.57|             No|        No|          No|           No|No, did not recei...|              No|      No|\n",
      "|Alabama|Female|    Very good|                 2|               3|Within past year ...|               Yes|         5|        null|            No|       No|       No|       No|          Yes|     No|                   No|              No|          No|         No|                 No|                     No|                     No|               No|                       No|               No|        Never smoked|Never used e-ciga...|       No| White only, Non-H...|   Age 55 to 59|          1.57|             63.5|25.61|             No|        No|          No|           No|                null|              No|     Yes|\n",
      "|Alabama|Female|    Excellent|                 0|               0|Within past year ...|               Yes|         7|        null|            No|       No|       No|      Yes|           No|     No|                   No|              No|         Yes|         No|                 No|                     No|                     No|               No|                       No|               No|Current smoker - ...|Never used e-ciga...|      Yes| White only, Non-H...|           null|          1.65|             63.5| 23.3|             No|        No|         Yes|          Yes|No, did not recei...|              No|      No|\n",
      "|Alabama|Female|         Fair|                 2|               0|Within past year ...|               Yes|         9|        null|            No|       No|       No|       No|           No|     No|                   No|              No|          No|         No|                 No|                     No|                     No|               No|                       No|               No|        Never smoked|Never used e-ciga...|      Yes| White only, Non-H...|   Age 40 to 44|          1.57|            53.98|21.77|            Yes|        No|          No|          Yes|No, did not recei...|              No|      No|\n",
      "+-------+------+-------------+------------------+----------------+--------------------+------------------+----------+------------+--------------+---------+---------+---------+-------------+-------+---------------------+----------------+------------+-----------+-------------------+-----------------------+-----------------------+-----------------+-------------------------+-----------------+--------------------+--------------------+---------+---------------------+---------------+--------------+-----------------+-----+---------------+----------+------------+-------------+--------------------+----------------+--------+\n",
      "only showing top 5 rows\n",
      "\n"
     ]
    }
   ],
   "source": [
    "# # Initializing Spark session\n",
    "# spark = utils.initialize_spark_session()\n",
    "\n",
    "# # Open file for heart disease key indicators\n",
    "# filename = \"dataset/heart_2022_with_nans.csv\"\n",
    "# heart_disease_df = utils.open_csv(spark, filename)\n",
    "# heart_disease_df.show(5)"
   ]
  },
  {
   "cell_type": "code",
   "execution_count": 35,
   "metadata": {},
   "outputs": [
    {
     "name": "stdout",
     "output_type": "stream",
     "text": [
      "root\n",
      " |-- State: string (nullable = true)\n",
      " |-- Sex: string (nullable = true)\n",
      " |-- GeneralHealth: string (nullable = true)\n",
      " |-- PhysicalHealthDays: integer (nullable = true)\n",
      " |-- MentalHealthDays: integer (nullable = true)\n",
      " |-- LastCheckupTime: string (nullable = true)\n",
      " |-- PhysicalActivities: string (nullable = true)\n",
      " |-- SleepHours: integer (nullable = true)\n",
      " |-- RemovedTeeth: string (nullable = true)\n",
      " |-- HadHeartAttack: string (nullable = true)\n",
      " |-- HadAngina: string (nullable = true)\n",
      " |-- HadStroke: string (nullable = true)\n",
      " |-- HadAsthma: string (nullable = true)\n",
      " |-- HadSkinCancer: string (nullable = true)\n",
      " |-- HadCOPD: string (nullable = true)\n",
      " |-- HadDepressiveDisorder: string (nullable = true)\n",
      " |-- HadKidneyDisease: string (nullable = true)\n",
      " |-- HadArthritis: string (nullable = true)\n",
      " |-- HadDiabetes: string (nullable = true)\n",
      " |-- DeafOrHardOfHearing: string (nullable = true)\n",
      " |-- BlindOrVisionDifficulty: string (nullable = true)\n",
      " |-- DifficultyConcentrating: string (nullable = true)\n",
      " |-- DifficultyWalking: string (nullable = true)\n",
      " |-- DifficultyDressingBathing: string (nullable = true)\n",
      " |-- DifficultyErrands: string (nullable = true)\n",
      " |-- SmokerStatus: string (nullable = true)\n",
      " |-- ECigaretteUsage: string (nullable = true)\n",
      " |-- ChestScan: string (nullable = true)\n",
      " |-- RaceEthnicityCategory: string (nullable = true)\n",
      " |-- AgeCategory: string (nullable = true)\n",
      " |-- HeightInMeters: double (nullable = true)\n",
      " |-- WeightInKilograms: double (nullable = true)\n",
      " |-- BMI: double (nullable = true)\n",
      " |-- AlcoholDrinkers: string (nullable = true)\n",
      " |-- HIVTesting: string (nullable = true)\n",
      " |-- FluVaxLast12: string (nullable = true)\n",
      " |-- PneumoVaxEver: string (nullable = true)\n",
      " |-- TetanusLast10Tdap: string (nullable = true)\n",
      " |-- HighRiskLastYear: string (nullable = true)\n",
      " |-- CovidPos: string (nullable = true)\n",
      "\n"
     ]
    }
   ],
   "source": [
    "# heart_disease_df.printSchema()"
   ]
  },
  {
   "cell_type": "markdown",
   "metadata": {},
   "source": [
    "We will use the same features based from the 2020 version of the dataset, which has 18 features, for simplification purposes. Hence, we'll be dropping the extra features found in 2022 dataset, with the exception for `HeightInMeters` and `WeightInKilograms` which are important when calculating missing values in `BMI`."
   ]
  },
  {
   "cell_type": "code",
   "execution_count": 58,
   "metadata": {},
   "outputs": [
    {
     "name": "stdout",
     "output_type": "stream",
     "text": [
      "Number of features: 20\n"
     ]
    }
   ],
   "source": [
    "# del_columns = ['State', 'LastCheckupTime', 'RemovedTeeth', 'HadDepressiveDisorder', 'HadArthritis', 'HadAngina', 'HadCOPD', \n",
    "#                'DeafOrHardOfHearing', 'ECigaretteUsage', 'BlindOrVisionDifficulty', 'DifficultyConcentrating', 'ChestScan',\n",
    "#                'DifficultyDressingBathing', 'DifficultyErrands', 'HIVTesting', 'FluVaxLast12', 'PneumoVaxEver', 'CovidPos',\n",
    "#                'TetanusLast10Tdap', 'HighRiskLastYear']\n",
    "\n",
    "# heart_disease_df = heart_disease_df.drop(*del_columns)\n",
    "# print(f\"Number of features: {len(heart_disease_df.columns)}\")"
   ]
  },
  {
   "cell_type": "markdown",
   "metadata": {},
   "source": [
    "### __Exploratory Data Analysis__\n",
    "\n",
    "View the basic statistical details of the dataset"
   ]
  },
  {
   "cell_type": "code",
   "execution_count": 37,
   "metadata": {},
   "outputs": [
    {
     "name": "stdout",
     "output_type": "stream",
     "text": [
      "+-------+------+-------------+------------------+-----------------+------------------+------------------+--------------+---------+---------+-------------+----------------+--------------------+-----------------+--------------------+---------------------+---------------+-------------------+-----------------+-----------------+---------------+\n",
      "|summary|   Sex|GeneralHealth|PhysicalHealthDays| MentalHealthDays|PhysicalActivities|        SleepHours|HadHeartAttack|HadStroke|HadAsthma|HadSkinCancer|HadKidneyDisease|         HadDiabetes|DifficultyWalking|        SmokerStatus|RaceEthnicityCategory|    AgeCategory|     HeightInMeters|WeightInKilograms|              BMI|AlcoholDrinkers|\n",
      "+-------+------+-------------+------------------+-----------------+------------------+------------------+--------------+---------+---------+-------------+----------------+--------------------+-----------------+--------------------+---------------------+---------------+-------------------+-----------------+-----------------+---------------+\n",
      "|  count|445132|       443934|            434205|           436065|            444039|            439679|        442067|   443575|   443359|       441989|          443206|              444045|           421120|              409670|               431075|         436053|             431108|           408276|           396326|         398558|\n",
      "|   mean|  null|         null| 4.347918609873217|4.382649375666472|              null| 7.022982675997716|          null|     null|     null|         null|            null|                null|             null|                null|                 null|           null| 1.7006049992113355|82.92419255601868|28.52984182213617|           null|\n",
      "| stddev|  null|         null| 8.688911998349097|8.387474653346139|              null|1.5024250128883108|          null|     null|     null|         null|            null|                null|             null|                null|                 null|           null|0.10596503106172532|21.35362358540338|6.554888667165126|           null|\n",
      "|    min|Female|    Excellent|                 0|                0|                No|                 1|            No|       No|       No|           No|              No|                  No|               No|Current smoker - ...| Black only, Non-H...|   Age 18 to 24|               0.91|            22.68|            12.02|             No|\n",
      "|    25%|  null|         null|                 0|                0|              null|                 6|          null|     null|     null|         null|            null|                null|             null|                null|                 null|           null|               1.63|            68.04|            24.13|           null|\n",
      "|    50%|  null|         null|                 0|                0|              null|                 7|          null|     null|     null|         null|            null|                null|             null|                null|                 null|           null|                1.7|            79.83|            27.44|           null|\n",
      "|    75%|  null|         null|                 3|                5|              null|                 8|          null|     null|     null|         null|            null|                null|             null|                null|                 null|           null|               1.78|             94.8|            31.75|           null|\n",
      "|    max|  Male|    Very good|                30|               30|               Yes|                24|           Yes|      Yes|      Yes|          Yes|             Yes|Yes, but only dur...|              Yes|        Never smoked| White only, Non-H...|Age 80 or older|               2.41|           292.57|            99.64|            Yes|\n",
      "+-------+------+-------------+------------------+-----------------+------------------+------------------+--------------+---------+---------+-------------+----------------+--------------------+-----------------+--------------------+---------------------+---------------+-------------------+-----------------+-----------------+---------------+\n",
      "\n"
     ]
    }
   ],
   "source": [
    "# heart_disease_df.summary().show()"
   ]
  },
  {
   "cell_type": "markdown",
   "metadata": {},
   "source": [
    "Drop all duplicate records fromt the dataset"
   ]
  },
  {
   "cell_type": "code",
   "execution_count": 38,
   "metadata": {},
   "outputs": [
    {
     "name": "stdout",
     "output_type": "stream",
     "text": [
      "Record count before dropping duplicates => 445132\n",
      "Record count after dropping duplicates  => 430840\n"
     ]
    }
   ],
   "source": [
    "# print(f\"Record count before dropping duplicates => {heart_disease_df.count()}\")\n",
    "# heart_disease_df = heart_disease_df.dropDuplicates()\n",
    "# print(f\"Record count after dropping duplicates  => {heart_disease_df.count()}\")"
   ]
  },
  {
   "cell_type": "markdown",
   "metadata": {},
   "source": [
    "Check all records with missing (or null) values"
   ]
  },
  {
   "cell_type": "code",
   "execution_count": 39,
   "metadata": {},
   "outputs": [
    {
     "name": "stdout",
     "output_type": "stream",
     "text": [
      "List of features with missing values:\n"
     ]
    },
    {
     "name": "stdout",
     "output_type": "stream",
     "text": [
      "- 'GeneralHealth' : 1175\n",
      "- 'PhysicalHealthDays' : 10897\n",
      "- 'MentalHealthDays' : 9038\n",
      "- 'PhysicalActivities' : 1069\n",
      "- 'SleepHours' : 5411\n",
      "- 'HadHeartAttack' : 3038\n",
      "- 'HadStroke' : 1530\n",
      "- 'HadAsthma' : 1746\n",
      "- 'HadSkinCancer' : 3116\n",
      "- 'HadKidneyDisease' : 1899\n",
      "- 'HadDiabetes' : 1060\n",
      "- 'DifficultyWalking' : 19798\n",
      "- 'SmokerStatus' : 31115\n",
      "- 'RaceEthnicityCategory' : 13739\n",
      "- 'AgeCategory' : 8444\n",
      "- 'HeightInMeters' : 11308\n",
      "- 'WeightInKilograms' : 31788\n",
      "- 'BMI' : 43257\n",
      "- 'AlcoholDrinkers' : 42161\n"
     ]
    }
   ],
   "source": [
    "# print(\"List of features with missing values:\")\n",
    "# for col_ in heart_disease_df.columns:\n",
    "#     null_values_count = heart_disease_df.filter(heart_disease_df[col_].isNull()).count()\n",
    "#     if null_values_count != 0:\n",
    "#         print(f\"- '{col_}' : {null_values_count}\")"
   ]
  },
  {
   "cell_type": "markdown",
   "metadata": {},
   "source": [
    "There are 3,065 records with null values set for `HadHeartAttack`, which is the target variable. Hence, we can simply drop all those records, keeping only those with assigned class labels."
   ]
  },
  {
   "cell_type": "code",
   "execution_count": 40,
   "metadata": {},
   "outputs": [
    {
     "name": "stdout",
     "output_type": "stream",
     "text": [
      "Record count before dropping null values in `HadHeartAttack` => 430840\n",
      "Record count after dropping null values in `HadHeartAttack`  => 427802\n"
     ]
    }
   ],
   "source": [
    "# print(f\"Record count before dropping null values in `HadHeartAttack` => {heart_disease_df.count()}\")\n",
    "# heart_disease_df = heart_disease_df.na.drop(subset=[\"HadHeartAttack\"])\n",
    "# print(f\"Record count after dropping null values in `HadHeartAttack`  => {heart_disease_df.count()}\")"
   ]
  },
  {
   "cell_type": "markdown",
   "metadata": {},
   "source": [
    "Check if the target variable `HadHeartAttack` is a binary, wherein it should only have two distinct values, i.e. Yes and No. We will treat this feature as inidividuals with heart disease."
   ]
  },
  {
   "cell_type": "code",
   "execution_count": 41,
   "metadata": {},
   "outputs": [
    {
     "data": {
      "image/png": "[encoded data removed]",
      "text/plain": [
       "<Figure size 800x400 with 1 Axes>"
      ]
     },
     "metadata": {},
     "output_type": "display_data"
    }
   ],
   "source": [
    "# dv.show_bar_graph(df=heart_disease_df, \n",
    "#                   col_=\"HadHeartAttack\", \n",
    "#                   figure_size=(8,4),\n",
    "#                   title='Data Distribution of Heart Disease', \n",
    "#                   x_label='Heart Disease', \n",
    "#                   y_label='Count', \n",
    "#                   x_tick_rotation=None,\n",
    "#                   bar_color=['darkblue', 'darkorange'])"
   ]
  },
  {
   "cell_type": "markdown",
   "metadata": {},
   "source": [
    "__Observation:__ The chart reveals that there is an imbalance in the number of records for `HadHeartAttack`, showing an uneven distribution of data between individuals who have the illness and those who do not. This could cause the trained model's predictions for heart disease to be severely biased. To balance the class distribution, we will use \n",
    "\n",
    "__insert the process details for balancing the class.....__"
   ]
  },
  {
   "cell_type": "markdown",
   "metadata": {},
   "source": [
    "When building a model for heart disease, considering a particular ethnicity is very important because different ethnic groups can have distinct genetic, lifestyle, and environmental factors that influence the health of the heart. By focusing on a specific ethnicity, we can develop more personalized and accurate models that account for unique risk factors and characteristics within that population."
   ]
  },
  {
   "cell_type": "code",
   "execution_count": 42,
   "metadata": {},
   "outputs": [
    {
     "name": "stdout",
     "output_type": "stream",
     "text": [
      "+-----------------------------+------+\n",
      "|RaceEthnicityCategory        |count |\n",
      "+-----------------------------+------+\n",
      "|Multiracial, Non-Hispanic    |9498  |\n",
      "|null                         |13407 |\n",
      "|Other race only, Non-Hispanic|22195 |\n",
      "|Black only, Non-Hispanic     |34789 |\n",
      "|Hispanic                     |41973 |\n",
      "|White only, Non-Hispanic     |305940|\n",
      "+-----------------------------+------+\n",
      "\n"
     ]
    }
   ],
   "source": [
    "# heart_disease_df.groupBy(\"RaceEthnicityCategory\").count().orderBy(\"count\").show(truncate=False)"
   ]
  },
  {
   "cell_type": "markdown",
   "metadata": {},
   "source": [
    "Therefore, we'll focus solely on the most number of records for racial group, which is `White only, Non-Hispanic`."
   ]
  },
  {
   "cell_type": "code",
   "execution_count": 43,
   "metadata": {},
   "outputs": [
    {
     "name": "stdout",
     "output_type": "stream",
     "text": [
      "Record count before dropping null values in `RaceEthnicityCategory` => 427802\n",
      "Record count after dropping null values in `RaceEthnicityCategory`  => 305940\n"
     ]
    }
   ],
   "source": [
    "# print(f\"Record count before dropping null values in `RaceEthnicityCategory` => {heart_disease_df.count()}\")\n",
    "# heart_disease_df = heart_disease_df.filter(col(\"RaceEthnicityCategory\") == \"White only, Non-Hispanic\")\n",
    "# print(f\"Record count after dropping null values in `RaceEthnicityCategory`  => {heart_disease_df.count()}\")"
   ]
  },
  {
   "cell_type": "markdown",
   "metadata": {},
   "source": [
    "##### __Data Imputation for Missing Values:__\n",
    "\n",
    "__a. Data Imputation for Height and Weight__\n",
    "\n",
    "Check the skewness of `HeightInMeters` and `WeightInKilograms` within each age category to decide on the appropriate imputation method. Based from the results, majority of height values are slightly skewed to the left, while all weight values are skewed to the right. Therefore, __*median*__ imputation will be used to address the missing values in both height and weight as it is more sensitive to outliers than the mean.\n",
    "\n",
    "__Skewness Interpretation:__\n",
    "- If skewness is close to 0, it suggests a relatively symmetrical distribution.\n",
    "- If skewness is significantly positive, it indicates a right-skewed distribution.\n",
    "- If skewness is significantly negative, it indicates a left-skewed distribution."
   ]
  },
  {
   "cell_type": "code",
   "execution_count": 44,
   "metadata": {},
   "outputs": [
    {
     "name": "stdout",
     "output_type": "stream",
     "text": [
      "Statistical analysis on data imputation for height and weight\n",
      "+------+---------------+--------------+-----------+------------+--------------+-----------+------------+\n",
      "|   Sex|    AgeCategory|HeightSkewness|HeightCount|HeightMedian|WeightSkewness|WeightCount|WeightMedian|\n",
      "+------+---------------+--------------+-----------+------------+--------------+-----------+------------+\n",
      "|Female|           null|       -0.1963|       1922|        1.63|        2.4783|       1342|       65.32|\n",
      "|Female|   Age 18 to 24|       -0.0082|       6351|        1.65|        1.4522|       6351|       66.22|\n",
      "|Female|   Age 25 to 29|        0.0721|       5746|        1.65|        1.3538|       5746|       72.57|\n",
      "|Female|   Age 30 to 34|        0.1186|       7421|        1.65|        1.4697|       7421|       72.57|\n",
      "|Female|   Age 35 to 39|        0.1102|       8778|        1.65|        1.5193|       8778|       73.03|\n",
      "|Female|   Age 40 to 44|       -0.1519|       9669|        1.65|        1.3259|       8782|       74.84|\n",
      "|Female|   Age 45 to 49|        0.0099|       9589|        1.65|        1.3946|       8565|       77.11|\n",
      "|Female|   Age 50 to 54|        0.0542|      11995|        1.65|        1.2356|      10677|       77.11|\n",
      "|Female|   Age 55 to 59|       -0.0994|      13762|        1.65|        1.1364|      12179|       74.84|\n",
      "|Female|   Age 60 to 64|       -0.0211|      17639|        1.65|        1.1035|      15755|       74.84|\n",
      "|Female|   Age 65 to 69|        0.1093|      18966|        1.63|        1.1038|      16936|       72.57|\n",
      "|Female|   Age 70 to 74|       -0.0377|      18032|        1.63|        1.0236|      16162|       72.57|\n",
      "|Female|   Age 75 to 79|       -0.1814|      14674|        1.63|        0.8571|      13306|        69.4|\n",
      "|Female|Age 80 or older|        0.0541|      17804|         1.6|        0.9922|      16456|       65.32|\n",
      "|  Male|           null|       -0.7543|       1605|         1.8|        2.0344|       1497|       88.45|\n",
      "|  Male|   Age 18 to 24|       -0.1403|       7916|         1.8|        1.4068|       7821|       79.38|\n",
      "|  Male|   Age 25 to 29|       -0.0314|       6401|         1.8|        1.4824|       6357|       86.18|\n",
      "|  Male|   Age 30 to 34|       -0.0298|       7252|         1.8|        1.2653|       7209|       88.45|\n",
      "|  Male|   Age 35 to 39|       -0.1359|       8172|         1.8|        1.2802|       8129|       90.72|\n",
      "|  Male|   Age 40 to 44|       -0.3688|       8543|         1.8|        1.3196|       8495|       90.72|\n",
      "|  Male|   Age 45 to 49|       -0.1958|       8228|         1.8|        1.3697|       8166|       92.99|\n",
      "|  Male|   Age 50 to 54|       -0.1716|      10018|         1.8|        1.1594|       9954|       92.99|\n",
      "|  Male|   Age 55 to 59|       -0.0378|      11534|        1.78|        1.1474|      11470|       92.99|\n",
      "|  Male|   Age 60 to 64|        -0.069|      14081|        1.78|         1.073|      13976|       90.72|\n",
      "|  Male|   Age 65 to 69|       -0.3101|      15962|        1.78|        0.9869|      15870|       90.72|\n",
      "|  Male|   Age 70 to 74|       -0.0553|      15463|        1.78|        0.9986|      15361|       88.45|\n",
      "|  Male|   Age 75 to 79|       -0.1222|      11267|        1.78|        1.0131|      11200|       86.18|\n",
      "|  Male|Age 80 or older|       -0.2561|      11508|        1.78|         0.699|      11483|       81.65|\n",
      "+------+---------------+--------------+-----------+------------+--------------+-----------+------------+\n",
      "\n"
     ]
    }
   ],
   "source": [
    "# window_spec = Window.partitionBy(\"Sex\", \"AgeCategory\")\n",
    "\n",
    "# # Calculate skewness and median using window functions\n",
    "# skewness_df = heart_disease_df\\\n",
    "#     .withColumn(\"HeightSkewness\", round(skewness(\"HeightInMeters\").over(window_spec), 4))\\\n",
    "#     .withColumn(\"HeightMedian\", median(\"HeightInMeters\").over(window_spec))\\\n",
    "#     .withColumn(\"HeightCount\", count(\"HeightInMeters\").over(window_spec))\\\n",
    "#     .withColumn(\"WeightSkewness\", round(skewness(\"WeightInKilograms\").over(window_spec), 4))\\\n",
    "#     .withColumn(\"WeightMedian\", median(\"WeightInKilograms\").over(window_spec))\\\n",
    "#     .withColumn(\"WeightCount\", count(\"WeightInKilograms\").over(window_spec))\\\n",
    "#     .select(\"Sex\", \"AgeCategory\", \"HeightSkewness\", \"HeightCount\", \"HeightMedian\", \"WeightSkewness\", \"WeightCount\", \"WeightMedian\")\\\n",
    "#     .distinct().orderBy(\"Sex\", \"AgeCategory\")\n",
    "\n",
    "# # Median imputation will be used for both height and weight due to skewed dataset\n",
    "# heart_disease_df = dp.impute_biometrics(heart_disease_df, skewness_df, \"HeightInMeters\", \"HeightMedian\")\n",
    "# heart_disease_df = dp.impute_biometrics(heart_disease_df, skewness_df, \"WeightInKilograms\", \"WeightMedian\")\n",
    "\n",
    "# print(\"Statistical analysis on data imputation for height and weight\")\n",
    "# skewness_df.show(30)"
   ]
  },
  {
   "cell_type": "markdown",
   "metadata": {},
   "source": [
    "__b. Data Imputation for BMI__\n",
    "\n",
    "Body Mass Index (BMI) is a metric calculated based on a person's weight and height. The BMI is often used as an indicator of body fatness and is a screening tool to categorize individuals into different weight status categories, such as underweight, normal weight, overweight, and obesity. The formula is:\n",
    "\n",
    "$$ BMI = {WeightInKilograms \\over HeightInMeters^2} $$\n",
    "\n",
    "To fill in the missing BMI, we will calculate BMI for records with missing BMI but weight and height are available by using the given formula above."
   ]
  },
  {
   "cell_type": "code",
   "execution_count": 46,
   "metadata": {},
   "outputs": [
    {
     "name": "stdout",
     "output_type": "stream",
     "text": [
      "Record count with missing BMI before data imputation => 25811\n",
      "Record count with missing BMI after data imputation  => 0\n"
     ]
    }
   ],
   "source": [
    "# bmi_count = heart_disease_df.filter(col(\"BMI\").isNull()).count()\n",
    "# print(f\"Record count with missing BMI before data imputation => {bmi_count}\")\n",
    "\n",
    "# heart_disease_df = dp.impute_bmi(heart_disease_df)\n",
    "\n",
    "# bmi_count = heart_disease_df.filter(col(\"BMI\").isNull()).count()\n",
    "# print(f\"Record count with missing BMI after data imputation  => {bmi_count}\")"
   ]
  },
  {
   "cell_type": "markdown",
   "metadata": {},
   "source": [
    "Use boxplot to check whether there are any outliers present in the BMI dataset. From the chart, a number of outliers are shown due to imbalance data distribution for people with heart disease. Hence, we'll just consider the data an outlier if BMI value is more than 120."
   ]
  },
  {
   "cell_type": "code",
   "execution_count": 47,
   "metadata": {},
   "outputs": [
    {
     "data": {
      "image/png": "[encoded data removed]",
      "text/plain": [
       "<Figure size 800x300 with 1 Axes>"
      ]
     },
     "metadata": {},
     "output_type": "display_data"
    }
   ],
   "source": [
    "# # Create a boxplot using Matplotlib\n",
    "# bmi_data = heart_disease_df.select(\"BMI\").rdd.flatMap(lambda x: x).collect()\n",
    "# dv.show_boxplot_graph(data=bmi_data, figure_size=(8,3), title='Boxplot of BMI', x_label='BMI')\n",
    "\n",
    "# # Remove outliers from BMI dataset\n",
    "# heart_disease_df = heart_disease_df.filter(col(\"BMI\") <= 120)"
   ]
  },
  {
   "cell_type": "markdown",
   "metadata": {},
   "source": [
    "__c. Data Imputation for Age Category__\n",
    "\n",
    "To fill in the missing age group values, a new column named `WeightStatus` will be created first where its values will be derived from the BMI. The BMI interpretation is based on guidelines available at https://www.cdc.gov/healthyweight/assessing/bmi/adult_bmi/index.html.\" This new column will be part of the aggregation to get the age category with the highest count."
   ]
  },
  {
   "cell_type": "code",
   "execution_count": 48,
   "metadata": {},
   "outputs": [
    {
     "data": {
      "image/png": "[encoded data removed]",
      "text/plain": [
       "<Figure size 800x400 with 1 Axes>"
      ]
     },
     "metadata": {},
     "output_type": "display_data"
    }
   ],
   "source": [
    "# # Create a new column `WeightStatus` with values based from BMI\n",
    "# heart_disease_df = heart_disease_df.withColumn(\"WeightStatus\", \n",
    "#     when(format_number(col(\"BMI\"), 2).between(0, 18.59), \"Underweight\")\n",
    "#     .when(format_number(col(\"BMI\"), 2).between(18.6, 24.99), \"Healthy Weight\")\n",
    "#     .when(format_number(col(\"BMI\"), 2).between(25.0, 29.99), \"Overweight\")\n",
    "#     .when(format_number(col(\"BMI\"), 2).between(30.0, 200), \"Obesity\"))\n",
    "    \n",
    "# # Show data distribution of weight status\n",
    "# dv.show_bar_graph(df=heart_disease_df, \n",
    "#                   col_=\"WeightStatus\", \n",
    "#                   figure_size=(8,4),\n",
    "#                   title='Data Distribution of Weight Status', \n",
    "#                   x_label='Weight Status', \n",
    "#                   y_label='Count', \n",
    "#                   x_tick_rotation=None)"
   ]
  },
  {
   "cell_type": "markdown",
   "metadata": {},
   "source": [
    "Calculate the maximum count per `WeightStatus` category given the `AgeCategory`. Output are the `AgeCategory` values that will be imputed to missing age group given the weight status. \n",
    "\n",
    "*Example: Most females classified as underweight fall within the age category of 'Age 80 or older.' Hence, that age category value will be used to fill in the missing data for underweight females.*"
   ]
  },
  {
   "cell_type": "code",
   "execution_count": 49,
   "metadata": {},
   "outputs": [
    {
     "name": "stdout",
     "output_type": "stream",
     "text": [
      "Statistical analysis on data imputation for age group\n",
      "+------+---------------+--------------+-----+\n",
      "|   Sex|    AgeCategory|  WeightStatus|count|\n",
      "+------+---------------+--------------+-----+\n",
      "|Female|Age 80 or older|Healthy Weight| 7609|\n",
      "|Female|   Age 65 to 69|       Obesity| 6041|\n",
      "|Female|   Age 65 to 69|    Overweight| 6901|\n",
      "|Female|Age 80 or older|   Underweight|  696|\n",
      "|  Male|   Age 18 to 24|Healthy Weight| 4065|\n",
      "|  Male|   Age 65 to 69|       Obesity| 5806|\n",
      "|  Male|   Age 65 to 69|    Overweight| 7231|\n",
      "|  Male|   Age 18 to 24|   Underweight|  401|\n",
      "+------+---------------+--------------+-----+\n",
      "\n"
     ]
    }
   ],
   "source": [
    "# window_spec = Window.partitionBy(\"Sex\", \"WeightStatus\").orderBy(desc(\"count\"))\n",
    "\n",
    "# age_result = heart_disease_df.groupBy(\"Sex\", \"AgeCategory\", \"WeightStatus\").count()\\\n",
    "#     .withColumn(\"max_count\", max(\"count\").over(window_spec))\\\n",
    "#     .filter(col(\"count\") == col(\"max_count\")).drop(\"max_count\")\n",
    "\n",
    "# heart_disease_df = dp.impute_age_category(heart_disease_df, age_result)\n",
    "\n",
    "# print(\"Statistical analysis on data imputation for age group\")\n",
    "# age_result.show()"
   ]
  },
  {
   "cell_type": "code",
   "execution_count": 50,
   "metadata": {},
   "outputs": [
    {
     "data": {
      "image/png": "[encoded data removed]",
      "text/plain": [
       "<Figure size 800x400 with 1 Axes>"
      ]
     },
     "metadata": {},
     "output_type": "display_data"
    }
   ],
   "source": [
    "# # Show data distribution of age category\n",
    "# dv.show_bar_graph(df=heart_disease_df, \n",
    "#                   col_=\"AgeCategory\", \n",
    "#                   figure_size=(8,4),\n",
    "#                   title='Data Distribution of Age Category', \n",
    "#                   x_label='Age Category', \n",
    "#                   y_label='Count', \n",
    "#                   x_tick_rotation=45)"
   ]
  },
  {
   "cell_type": "code",
   "execution_count": 51,
   "metadata": {},
   "outputs": [
    {
     "name": "stdout",
     "output_type": "stream",
     "text": [
      "Columns: ['Sex', 'GeneralHealth', 'PhysicalHealthDays', 'MentalHealthDays', 'PhysicalActivities', 'SleepHours', 'HadHeartAttack', 'HadStroke', 'HadAsthma', 'HadSkinCancer', 'HadKidneyDisease', 'HadDiabetes', 'DifficultyWalking', 'SmokerStatus', 'RaceEthnicityCategory', 'AgeCategory', 'BMI', 'AlcoholDrinkers']\n"
     ]
    }
   ],
   "source": [
    "# # Drop `WeightStatus`, `HeightInMeters`, `WeightInKilograms` columns since they are correlated to BMI\n",
    "# heart_disease_df = heart_disease_df.drop(*['WeightStatus', 'HeightInMeters', 'WeightInKilograms'])\n",
    "# print(f\"Columns: {heart_disease_df.columns}\")"
   ]
  },
  {
   "cell_type": "markdown",
   "metadata": {},
   "source": [
    "__d. Data Imputation for General Health__"
   ]
  },
  {
   "cell_type": "code",
   "execution_count": null,
   "metadata": {},
   "outputs": [],
   "source": []
  },
  {
   "cell_type": "markdown",
   "metadata": {},
   "source": [
    "### __Balancing Data Distribution of Target Feature__"
   ]
  },
  {
   "cell_type": "markdown",
   "metadata": {},
   "source": [
    "### __Feature Selection and Feature Engineering__"
   ]
  },
  {
   "cell_type": "code",
   "execution_count": null,
   "metadata": {},
   "outputs": [],
   "source": []
  },
  {
   "cell_type": "markdown",
   "metadata": {},
   "source": [
    "### __Model Creation and Evaluation__"
   ]
  },
  {
   "cell_type": "code",
   "execution_count": null,
   "metadata": {},
   "outputs": [],
   "source": []
  },
  {
   "cell_type": "markdown",
   "metadata": {},
   "source": [
    "##### Logistic Regression"
   ]
  },
  {
   "cell_type": "code",
   "execution_count": null,
   "metadata": {},
   "outputs": [],
   "source": []
  },
  {
   "cell_type": "markdown",
   "metadata": {},
   "source": [
    "##### Decision Tree"
   ]
  },
  {
   "cell_type": "code",
   "execution_count": null,
   "metadata": {},
   "outputs": [],
   "source": []
  },
  {
   "cell_type": "markdown",
   "metadata": {},
   "source": [
    "##### Random Forests"
   ]
  },
  {
   "cell_type": "code",
   "execution_count": null,
   "metadata": {},
   "outputs": [],
   "source": []
  },
  {
   "cell_type": "markdown",
   "metadata": {},
   "source": [
    "##### Gradient Boosted Tree"
   ]
  },
  {
   "cell_type": "code",
   "execution_count": null,
   "metadata": {},
   "outputs": [],
   "source": []
  },
  {
   "cell_type": "markdown",
   "metadata": {},
   "source": [
    "### __Hyper Parameter Tuning__"
   ]
  },
  {
   "cell_type": "code",
   "execution_count": null,
   "metadata": {},
   "outputs": [],
   "source": []
  },
  {
   "cell_type": "markdown",
   "metadata": {},
   "source": [
    "### __References__\n",
    "\n",
    "- https://towardsdatascience.com/apache-spark-performance-boosting-e072a3ec1179\n",
    "- https://medium.com/@adrianchang/apache-spark-checkpointing-ebd2ec065371"
   ]
  }
 ],
 "metadata": {
  "kernelspec": {
   "display_name": "Python 3",
   "language": "python",
   "name": "python3"
  },
  "language_info": {
   "codemirror_mode": {
    "name": "ipython",
    "version": 3
   },
   "file_extension": ".py",
   "mimetype": "text/x-python",
   "name": "python",
   "nbconvert_exporter": "python",
   "pygments_lexer": "ipython3",
   "version": "3.10.7"
  },
  "orig_nbformat": 4,
  "vscode": {
   "interpreter": {
    "hash": "006ceec57082682d3b909e056014cfb3f67146c2ee1293d561029ad71ca64256"
   }
  }
 },
 "nbformat": 4,
 "nbformat_minor": 2
}
